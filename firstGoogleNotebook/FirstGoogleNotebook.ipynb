{
  "nbformat": 4,
  "nbformat_minor": 0,
  "metadata": {
    "colab": {
      "name": "FirstGoogleNotebook.ipynb",
      "provenance": [],
      "authorship_tag": "ABX9TyN6fq/58ydwQjFfcFRU9u8/",
      "include_colab_link": true
    },
    "kernelspec": {
      "name": "python3",
      "display_name": "Python 3"
    }
  },
  "cells": [
    {
      "cell_type": "markdown",
      "metadata": {
        "id": "view-in-github",
        "colab_type": "text"
      },
      "source": [
        "<a href=\"https://colab.research.google.com/github/nro337/IST210/blob/master/firstGoogleNotebook/FirstGoogleNotebook.ipynb\" target=\"_parent\"><img src=\"https://colab.research.google.com/assets/colab-badge.svg\" alt=\"Open In Colab\"/></a>"
      ]
    },
    {
      "cell_type": "markdown",
      "metadata": {
        "id": "VeEFF5VQCY1d",
        "colab_type": "text"
      },
      "source": [
        "# Nicholas Alico\n",
        "<br>\n",
        "\n",
        "## My IST related interests\n",
        "I am majoring in Human-Centered Design & Development (HCDD).\n",
        "\n",
        "My interests include UI/UX Design, Human-Computer Interaction, Web Development, and Programming. I am also the Project Manager of the College of IST's new User Experience Professionals Association (UXPA) student organization.\n",
        "<br>\n",
        "## My Future Career & Job Interests\n",
        " In the future, I plan to work as a User Experience (UX) Designer for a leading technology company. I aspire to work alongside revolutionary designers to help make websites and applications far easier and accommodating to use. Specifically, I would like to improve the performance and usability for disabled users attempting to interact with complex web interfaces.\n",
        "\n",
        "<br>\n",
        "\n",
        " ##### Recent Picture of Myself while interning at Oracle:"
      ]
    },
    {
      "cell_type": "markdown",
      "metadata": {
        "id": "dVG7zee0FxVM",
        "colab_type": "text"
      },
      "source": [
        "![Nick Alico](https://raw.githubusercontent.com/nro337/IST210/master/firstGoogleNotebook/0.jpg)"
      ]
    }
  ]
}