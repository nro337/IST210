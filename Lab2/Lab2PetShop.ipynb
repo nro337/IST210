{
  "nbformat": 4,
  "nbformat_minor": 0,
  "metadata": {
    "colab": {
      "name": "Lab2PetShop.ipynb",
      "provenance": [],
      "authorship_tag": "ABX9TyOvDXmHc7qyvGcXh4uN93CX",
      "include_colab_link": true
    },
    "kernelspec": {
      "name": "python3",
      "display_name": "Python 3"
    }
  },
  "cells": [
    {
      "cell_type": "markdown",
      "metadata": {
        "id": "view-in-github",
        "colab_type": "text"
      },
      "source": [
        "<a href=\"https://colab.research.google.com/github/nro337/IST210/blob/master/Lab2/Lab2PetShop.ipynb\" target=\"_parent\"><img src=\"https://colab.research.google.com/assets/colab-badge.svg\" alt=\"Open In Colab\"/></a>"
      ]
    },
    {
      "cell_type": "markdown",
      "metadata": {
        "id": "wregQfA-i6w4",
        "colab_type": "text"
      },
      "source": [
        "# **Lab 2 Pet Shop**\n",
        "---\n",
        "\n"
      ]
    },
    {
      "cell_type": "markdown",
      "metadata": {
        "id": "wnt6OfCN4yQW",
        "colab_type": "text"
      },
      "source": [
        "###### Nick Alico"
      ]
    },
    {
      "cell_type": "markdown",
      "metadata": {
        "id": "5N3E-9PIgcwU",
        "colab_type": "text"
      },
      "source": [
        "![ER Diagram](https://raw.githubusercontent.com/nro337/IST210/master/Lab2/Lab2.png)"
      ]
    },
    {
      "cell_type": "markdown",
      "metadata": {
        "id": "DHkr7KsmfVTg",
        "colab_type": "text"
      },
      "source": [
        "My above layout for the Lab 2 Pet Shop ER Diagram consists of a number of unique design choices that lend to the overall entity connectivity and cardinality. I first decided to include the enclosureID in the Pets entity as well as the petID as a foreign key in the Enclosures entity, as both primary keys are necessary attributes for the functioning of the other entity. I chose to allow an enclosure to hold zero pets in the case where all of a particular type of cat or fish had been sold or were out of stock. \n",
        "\n",
        "One supplementary focus I decided upon was the design of my pet shop's loyalty program. I chose to list the attribute \"loyaltyValue\" in the Pets and Food entities, asserting that each item that the pet shop sells possesses a particular value based on its price and rarity. Each Customer possesses a total loyaltyPoints attribute, which in turn works with the loyaltyPoints attribute in both transaction types in order to track how many loyalty points a particular customer earns within each transaction.\n",
        "\n",
        "After some thought, I decided to place a cardinality of (0,10) for how many pets one food item can feed. Larger pets, such as large dogs or pigs, often consume more resources than just one unique item. On the reverse side of the relationship, pets are shown to feed on 1-3 unique food items per meal as shown by the crow's feet connectivity.\n",
        "\n",
        "The pet shop manager specification for a separation of entities between the each purchase type led me to the decision that Animal Transactions needed to connect exclusively with the Pets entity, while Pet Food Transactions needed to connect exclusively to the Food entity. This way, the transaction of each type of good sold by the pet shop will be associated to the correct user with an equivalent timestamp and loyalty point value, all while maintaining a clarity of entity contents. A single pet or food item can be transferred during only one transaction (referenced with the 1-1 cardinality and corresponding connectivity), yet each transaction may possess the *securing* or *exchanging* of one to multiple pets. I chose to not allow more than six pets to be adopted per customer transaction, but allowed up to ten food items per transaction for users with multiple pets.\n",
        "\n",
        "Finally, the Customer entity includes common attributes for a individual, but leaves the payment control up to the user's discretion per transaction in lieu of a preferential payment system. A transaction is performed in conjunction with one single customer as per the connectivity of each relationship, yet my design allows for that same customer to perform a series of 3-4 sequential transactions. This is attributed to the needs of some users to purchase gift cards or gift receipts, as well as those who are subsequently being reimbursed by a third party for their purchases in order for separate receipts to be provided."
      ]
    }
  ]
}