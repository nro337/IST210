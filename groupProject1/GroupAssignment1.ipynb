{
  "nbformat": 4,
  "nbformat_minor": 0,
  "metadata": {
    "colab": {
      "name": "GroupAssignment1.ipynb",
      "provenance": [],
      "collapsed_sections": [],
      "include_colab_link": true
    },
    "kernelspec": {
      "name": "python3",
      "display_name": "Python 3"
    }
  },
  "cells": [
    {
      "cell_type": "markdown",
      "metadata": {
        "id": "view-in-github",
        "colab_type": "text"
      },
      "source": [
        "<a href=\"https://colab.research.google.com/github/nro337/IST210/blob/master/groupProject1/GroupAssignment1.ipynb\" target=\"_parent\"><img src=\"https://colab.research.google.com/assets/colab-badge.svg\" alt=\"Open In Colab\"/></a>"
      ]
    },
    {
      "cell_type": "markdown",
      "metadata": {
        "id": "cmEPB8xqhAiC",
        "colab_type": "text"
      },
      "source": [
        "#**LIBRARY** *(Our Intended Project)*\n",
        "Our idea is a library, and it is unique because it can also function as a bookstore. The members can order books to buy through the library, or buy out older books that shouldn’t be in circulation anymore. We are borrowing ideas from other businesses and library book sales, but making that available more than once a year. Our goal is to figure out which 10 books are in highest demand based on member activity and display the information, so people know which books are currently popular, and if the library needs to order more of those books. A typical day involves people browsing books and making decisions on what to check out. The member then checks out the book and is given information on when the book is due for return or renewal. Books are returned and scanned and reshelved by the staff.                                      \n",
        "\n",
        " We have five tables: The first is for staff, which would include staff ID, first and last name, position they work, date they were hired, their salary, and any events they are responsible for organizing. The second is for members, it includes the member ID, first and last name, contact information, a list of current and past books borrowed, and any fees (overdue or otherwise) that the member has. The third table is for books, including title, author, ISBN, price, status, publisher, supplier, number of copies, department, whether it is an ebook or a physical copy, and if it is reserved for a course. The fourth is for events the library hosts. It includes the date and time, location, the title and/or description, the staff organizer, and whether or not it is a recurring event. The fifth is a dynamic table for transactions. It includes a transaction ID, the member ID of the transactor, the type of transaction (loan/return/renewal/purchase), and payment method (if applicable).\n"
      ]
    },
    {
      "cell_type": "markdown",
      "metadata": {
        "id": "0emCngCujLJJ",
        "colab_type": "text"
      },
      "source": [
        "![Library](https://raw.githubusercontent.com/kashishpatel08/GA1/master/Library.jpg)"
      ]
    },
    {
      "cell_type": "markdown",
      "metadata": {
        "id": "gXtsw7rlhDK7",
        "colab_type": "text"
      },
      "source": [
        "#**Hospital**\n",
        "Our idea is a hospital, and the goal is to improve hospital efficiency in regards to minimizing resource waste, such as time, room usage, and optimal staff distributions. Although a hospital is quite commonplace, inefficiency is an issue all hospitals struggle with, despite the importance of running efficiently. Therefore, addressing efficiency in hospitals will help hospitals balance funding as well as their limited resources to give sufficient medical care to as many people as possible, as fast as possible.\n",
        "\n",
        "While we are borrowing the basic framework from a hospital’s overall structure, we plan to use this data for optimization, rather than just for historical purposes. A typical transaction would start with a patient checking in, being escorted to a room, and then having all their basic medical information updated by a nurse. Then, a doctor would come in and perform an exam, and record all pertinent information. Finally, the patient would check out, pay, and then leave.\n",
        "\n",
        "For hospital, we plan to use these tables, with these variables.\n",
        "\n",
        "Staff - ID, fName, lName, jobTitle, foeID, phoneNumber, salary\n",
        "\n",
        "Fields of Expertise - ID, name, description, allowedOps\n",
        "\n",
        "Patients (dynamic) - ID, hgt, wgt, bloodType, bloodPressure, restingHb, address,phoneNumber, checkIn, checkOut, referFieldCode\n",
        "\n",
        "Transactions (dynamic) - ID, operationName, cost, patient\n",
        "\n",
        "Rooms - ID, wing, timeIn, timeOut, staff, roomType \n",
        "\n",
        "Staff would have different fields of expertise, which would permit them to do different operations. With basic patient data, we can optimize our staffing distribution by adjusting the amount of staff based on the requirements of the hospital. For example, if more cardiologists are needed than available, while there are more neurosurgeons than required, the hospital could shift funding from neurology to cardiology, in order to accommodate patient demands. These adjustments would be done using patient data over long periods of time, in order to limit chaotic fluctuations. Other optimization would come from Room Usage, allowing us to figure out what rooms are in most demand, and optimize similarly to staff. Additionally, we could better synchronize patient and room schedules to make sure rooms are near 100% uptime, as well as improve doctor pathing to improve efficiencies and make sure patients are seen to quickly.\n",
        "\n"
      ]
    },
    {
      "cell_type": "markdown",
      "metadata": {
        "id": "iSjJ9MFxkch4",
        "colab_type": "text"
      },
      "source": [
        "![Hospital](https://raw.githubusercontent.com/kashishpatel08/GA1/master/Hospital.jpg)"
      ]
    },
    {
      "cell_type": "markdown",
      "metadata": {
        "id": "P6B7WWoJkhuS",
        "colab_type": "text"
      },
      "source": [
        "#**Airport**\n",
        "Our group’s idea surrounds the operations of an airport of varying size and volume. \n",
        "\n",
        "The idea is specifically unique because an airport’s size is directly indicative of the traffic and number of flights it offers per day, and our database design is meant to connect the distinct operations of staff, flights, and baggage tracking into one overhead location. This allows superiors to track airport logistics in real time.\n",
        "\n",
        "Our business model is duplicating the core functions that most contiguous and international airports utilize to track their flights, but adding a creative twist whereby an airport obtains the ability to combine data from ticket sales (on a per-company basis), Flights (American, Delta, etc.), and baggage tracking between all terminals into one synthesized unit. Prior to our design, most airline companies utilized their own baggage tracking and ticketing systems, or airports and airline companies split the responsibility.\n",
        "\n",
        "On a typical day, an actor will enter our fictitious airport. If they have not yet purchased a ticket, they will be assigned a flight ID and ticket number. Otherwise, they will already possess these two data values on their digital ticket. The individual will go to the luggage counter, and our airport’s baggage tracking system will identify each bag under a unique ID, and send the unit to be loaded on the corresponding flight matching their ticket’s ID. After getting through security, our flyer uses the gate assignment on their ticket to locate the appropriate terminal and departure gate. Each gate is occupied by at least one assigned staffID member of the airport, who makes sure all travelers are accommodated in their departure and reaching their final destinations. The traveler’s departure ticket possesses the ticketID and flight ID, which is synced with the airport’s dynamic baggage tracking system to assure that each of their checked bags possesses the matching ticketID. After the flight touches down at the individual’s location, the individual’s flight information will be dynamically updated to reflect their arrival time and location. The destination airport will match their airportID with the baggage check destination listed, and send those corresponding bags to the luggage carousel aligned with the given gateID.\n",
        "\n",
        "For our airport project idea, we chose to include five tables with the following data attributes:\n",
        "\n",
        "Ticket Transactions (dynamic) - ID, fName, lName, airline, numberOfTickets, timestamp\n",
        "\n",
        "Gates - ID, number, wingOfAirport, flightIDCurrentlyAssigned, staffIDCurrentlyAssigned\n",
        "\n",
        "Flights (Arrivals/Departures) - ID, arrivalOrDeparture, arrivingFrom, destination, company, numberOfPassengers, timestamp\n",
        "\n",
        "Staff - ID, fName, lName, position, company, hrs/week\n",
        "\n",
        "Baggage Check/Tracking System (dynamic) - ID, ticketID, checkInLocation, destination, timestamp\n",
        "\n",
        "The goal of the airport network project is to cohesively organize one efficient system for airport logistics managers and airline companies to use to allocate resources more efficiently and save money. I will utilize the tables “flights”, “staff”, and “ticket transactions” to understand what locations are overstaffed or sparsely flown to in order to reallocate funds more methodically.\n"
      ]
    },
    {
      "cell_type": "markdown",
      "metadata": {
        "id": "i9qJWqp_qI-a",
        "colab_type": "text"
      },
      "source": [
        "![Airport](https://raw.githubusercontent.com/kashishpatel08/GA1/master/Airport.jpg)\n",
        "\n"
      ]
    }
  ]
}