{
  "nbformat": 4,
  "nbformat_minor": 0,
  "metadata": {
    "colab": {
      "name": "IST210Final_Project.ipynb",
      "provenance": [],
      "collapsed_sections": [],
      "include_colab_link": true
    },
    "kernelspec": {
      "name": "python3",
      "display_name": "Python 3"
    }
  },
  "cells": [
    {
      "cell_type": "markdown",
      "metadata": {
        "id": "view-in-github",
        "colab_type": "text"
      },
      "source": [
        "<a href=\"https://colab.research.google.com/github/nro337/IST210/blob/master/finalProject/IST210Final_Project.ipynb\" target=\"_parent\"><img src=\"https://colab.research.google.com/assets/colab-badge.svg\" alt=\"Open In Colab\"/></a>"
      ]
    },
    {
      "cell_type": "markdown",
      "metadata": {
        "id": "sNmG8ne8mJFh",
        "colab_type": "text"
      },
      "source": [
        "# Introduction "
      ]
    },
    {
      "cell_type": "markdown",
      "metadata": {
        "id": "-nm09fwzmQ_E",
        "colab_type": "text"
      },
      "source": [
        "  Our group chose to focus our project on a library’s transaction and event system due to its application in completing a real-world activity. After brainstorming, we decided that a library’s database is a prime example of a system processing numerous transaction queries in both directions of loans and returns at once. We began our ER Diagram construction by thinking about the minimum requirements needed to allow for a patron to successfully reserve, check-out, and check-in a number of books. We quickly realized that these transactions could incorporate both reservations or loans, as well as the need for our database to keep track of late fees and user balances. \n",
        "  \n",
        "  We also wanted to support a local library which enjoys hosting community events. This requirement led us to the creation of an ‘Events’ table, where 1 staff member is assigned to organize its details (and can be assigned to up to 3 different events). Our team wanted to cover a wide array of possible loan and reservation types that a traditional library would offer, so each book in our Books table includes boolean LoanStatus, ReserveStatus, and Fiction attributes to identify the state of each book in our system. We also found that restricting our ER Diagram to only allow for one copy of each book while processing 1 book per transaction would allow our Library system to better manage both loan or checkout duration as well as outstanding late fee calculations."
      ]
    },
    {
      "cell_type": "markdown",
      "metadata": {
        "id": "BtMfw4FWnHvi",
        "colab_type": "text"
      },
      "source": [
        "![alt text](https://raw.githubusercontent.com/nro337/IST210/master/finalProject/Library.png)"
      ]
    },
    {
      "cell_type": "markdown",
      "metadata": {
        "id": "ZziPqxbxnWoE",
        "colab_type": "text"
      },
      "source": [
        "# ER Diagram Specifics"
      ]
    },
    {
      "cell_type": "markdown",
      "metadata": {
        "id": "HBt8bUHTOjUz",
        "colab_type": "text"
      },
      "source": [
        "Our group first decided on building an ER Diagram representative of a day-to-day timeframe, indicated in our cardinality which displays the possible operations in a single day. We assumed that each event would be staffed by only 1 staff member, and we decided to limit each staff member to coordinate a maximum of three events per day. Our library also possesses only one copy of each book. Our team decided to construct the check-in and checkout system to require processing of each book individually. This process still allows for patrons to check out multiple books per visit, we simply prefer to synthesize each transaction independently. We chose to make another assumption that each staff member can be involved in a maximum of 300 transactions each day.\n",
        "\n",
        "A patron is able to check-out 15 books per day, with the procedure requiring one book check-out equals one transaction. When a patron has finished reading their books, our library system allows a customer to perform 20 check-in transactions, where each transaction returns one book into our database.\n",
        "\n",
        "Detailing some of the specifics of our database, the “Balance” attribute in the Members table is decremented by the price attribute for the corresponding book in the Books table. If a member has accrued late fees, their balance decreases by a set late fee each day. The ‘Late’ flag in CheckIn specifies that the late fee equals (CheckIn DateTime - DueDate) * late fee. Each book also possesses LoanStatus and ReserveStatus attributes to specify each book’s type.\n"
      ]
    },
    {
      "cell_type": "markdown",
      "metadata": {
        "id": "nOaTFSSSnsxf",
        "colab_type": "text"
      },
      "source": [
        "# Database Design, Table Creation, and Data Insertion"
      ]
    },
    {
      "cell_type": "markdown",
      "metadata": {
        "id": "_sC60fh7O0Cd",
        "colab_type": "text"
      },
      "source": [
        "To create our database, we followed the pattern of utilizing inline SQL and Python code we learned to develop using the provided in-class Google Colab Notebooks as a starting reference. In order to create our database, we used the %load_ext sql to include the sql library in our note book, and used %sql sqlite:///library.db to create the library database. The CREATE TABLE TABLENAME() command allows us to create each of our six tables, where inside each table name we specified each of the associated attributes from our tables. Primary keys are denoted as such, and each attribute includes a data type to specify the type of data it will accept. Finally, to insert data into our library database, our team used the INSERT INTO TABLENAME VALUES(), where inside the values method we input, in order, the corresponding attribute values for each entry. Each of these values is entered as the appropriate data type for the given attribute to maintain consistency."
      ]
    },
    {
      "cell_type": "markdown",
      "metadata": {
        "id": "nq1MGRiNn4aF",
        "colab_type": "text"
      },
      "source": [
        "# Database & Data Insertion Code"
      ]
    },
    {
      "cell_type": "code",
      "metadata": {
        "id": "N384Xgh5r02N",
        "colab_type": "code",
        "outputId": "564226ad-11f4-40f2-db62-52af70fb3748",
        "colab": {
          "base_uri": "https://localhost:8080/",
          "height": 69
        }
      },
      "source": [
        "%load_ext sql\n",
        "%sql sqlite:///library.db"
      ],
      "execution_count": 0,
      "outputs": [
        {
          "output_type": "stream",
          "text": [
            "The sql extension is already loaded. To reload it, use:\n",
            "  %reload_ext sql\n"
          ],
          "name": "stdout"
        },
        {
          "output_type": "execute_result",
          "data": {
            "text/plain": [
              "'Connected: @library.db'"
            ]
          },
          "metadata": {
            "tags": []
          },
          "execution_count": 56
        }
      ]
    },
    {
      "cell_type": "code",
      "metadata": {
        "id": "4wYrWQzPsT6j",
        "colab_type": "code",
        "outputId": "7a0f0d0e-2572-4369-b843-94d58014aef6",
        "colab": {
          "base_uri": "https://localhost:8080/",
          "height": 260
        }
      },
      "source": [
        "%%sql \n",
        "DROP table IF EXISTS Staff;\n",
        "CREATE table Staff(StaffID text PRIMARY KEY, FName text, LName text, DateHired date, Position text, Salary real);\n",
        "\n",
        "DROP table IF EXISTS Events;\n",
        "CREATE table Events(EventID text PRIMARY KEY, StaffID text, DateTime datetime, Title text, Recurring boolean, Category text);\n",
        "\n",
        "DROP table IF EXISTS Books;\n",
        "CREATE table Books(ISBN text PRIMARY KEY, Title text, AuthorFName text, AuthorLName text, LoanStatus boolean, ReserveStatus boolean, Price real, Fiction boolean, EBook boolean, Publisher text); \n",
        "\n",
        "DROP table IF EXISTS Members;\n",
        "CREATE table Members(MemberID text PRIMARY KEY, FName text, LName text, EMail text, PostalCode text, Balance real);\n",
        "\n",
        "DROP table IF EXISTS CheckOut;\n",
        "CREATE table CheckOut(CheckOutID text PRIMARY KEY, ISBN text, MemberID text, StaffID text, DateTime datetime, Type text, DueDate date); \n",
        "\n",
        "DROP table IF EXISTS CheckIn;\n",
        "CREATE table CheckIn(CheckInID text PRIMARY KEY, ISBN text, MemberID text, DateTime date, Late boolean);"
      ],
      "execution_count": 0,
      "outputs": [
        {
          "output_type": "stream",
          "text": [
            " * sqlite:///library.db\n",
            "Done.\n",
            "Done.\n",
            "Done.\n",
            "Done.\n",
            "Done.\n",
            "Done.\n",
            "Done.\n",
            "Done.\n",
            "Done.\n",
            "Done.\n",
            "Done.\n",
            "Done.\n"
          ],
          "name": "stdout"
        },
        {
          "output_type": "execute_result",
          "data": {
            "text/plain": [
              "[]"
            ]
          },
          "metadata": {
            "tags": []
          },
          "execution_count": 72
        }
      ]
    },
    {
      "cell_type": "code",
      "metadata": {
        "id": "RX6Vpcs0tZaM",
        "colab_type": "code",
        "outputId": "bfde16b9-6791-462b-a260-8c9a4632520d",
        "colab": {
          "base_uri": "https://localhost:8080/",
          "height": 590
        }
      },
      "source": [
        "%%sql\n",
        "Insert into Staff values('107', 'Katie', 'Ruben', '2018-01-13', 'Librarian', 55280);\n",
        "Insert into Staff values('108', 'Rowan', 'Marit', '2018-06-27', 'Librarian', 54712);\n",
        "Insert into Staff values('109', 'John', 'Devika', '2019-02-15', 'Event Coordinator', 50893);\n",
        "Insert into Staff values('110', 'Ivanna', 'Mason', '2019-10-24', 'Librarian', 52335);\n",
        "Insert into Staff values('111', 'Tomas', 'Sardan', '2020-03-12', 'Event Coordinator', 48624);\n",
        "\n",
        "Insert into Events values('214', '109', '2019-08-03 10:00:00', 'Thinking Tots', 'true', 'Children');\n",
        "Insert into Events values('215', '109', '2019-10-31 17:00:00', 'Spooky Stories', 'false', 'Holiday');\n",
        "Insert into Events values('216', '111', '2019-12-04 18:30:00','Knit Wits', 'true', 'Crafting');\n",
        "Insert into Events values('217', '109', '2020-02-11 19:00:00', 'Tabletop Tuesday', 'true', 'Games');\n",
        "Insert into Events values('218', '111', '2020-04-12 14:00:00', 'Book Hunt', 'false','Holiday');\n",
        "\n",
        "Insert into Books values('9780133898293', 'Managing Information Systems', 'Jane', 'Laudon', 'true', 'false', 199.99, 'false', 'false', 'Pearson');\n",
        "Insert into Books values('1234567890123', 'Terry the Pterodactyl', 'Nicholas', 'Alico', 'true', 'false', 24.99, 'true', 'true', 'Penguin Texts');\n",
        "Insert into Books values('4567890123456', 'Creating a Simulation', 'Julian', 'Sim', 'true', 'false', 19.99, 'false', 'false', 'Pears');\n",
        "Insert into Books values('9876543210123', 'The Many Faces of Andi', 'Kashish', 'Patel', 'true', 'false', 36.70, 'true', 'true', 'Scholaster');\n",
        "Insert into Books values('6543210988734', 'Pirating the Pirates: Fictional Pirates Based on Real People', 'Elliot', 'Parker', 'true', 'false', 40.00, 'false', 'false', 'Random Home');\n",
        "\n",
        "Insert into Members values('321', 'Ray', 'Smith', 'rsmith@psu.edu', '16801', 0.00);\n",
        "Insert into Members values('322', 'Jenny', 'Vega', 'jvega@psu.edu', '16802', 0.00);\n",
        "Insert into Members values('323', 'Ben', 'Salim', 'bsalim@psu.edu', '16803', 0.00);\n",
        "Insert into Members values('324', 'Ariyah', 'Libor', 'alibor@psu.edu', '16802', 0.00);\n",
        "Insert into Members values('325', 'Casey', 'Jones', 'cjones@psu.edu', '16801', 0.00);\n",
        "\n",
        "Insert into CheckOut values('451', '9876543210123', '322', '107', '2020-04-05 15:17:32', 'Loan', '2020-04-12');\n",
        "Insert into CheckOut values('452', '4567890123456', '324', '108', '2020-04-07 10:28:47', 'Loan', '2020-04-14');\n",
        "Insert into CheckOut values('453', '1234567890123', '325', '107', '2020-04-09 13:52:05', 'Loan', '2020-04-16');\n",
        "Insert into CheckOut values('454', '9780133898293', '321', '110', '2020-04-11 09:46:18', 'Loan', '2020-04-18');\n",
        "Insert into CheckOut values('455', '6543210988734', '323', '108', '2020-04-11 11:39:00', 'Loan', '2020-04-18');\n",
        "Insert into CheckOut values('456', '1234567890123', '322', '110', '2020-04-27 16:04:22', 'Loan', '2020-05-04');\n",
        "\n",
        "Insert into CheckIn values('451', '9876543210123', '322', '2020-04-10', 'false');\n",
        "Insert into CheckIn values('452', '1234567890123', '325', '2020-04-15', 'false');\n",
        "Insert into CheckIn values('453', '4567890123456', '324', '2020-04-16', 'true');\n",
        "Insert into CheckIn values('454', '6543210988734', '323', '2020-04-17', 'false');\n",
        "Insert into CheckIn values('455', '9780133898293', '321', '2020-04-25', 'true');"
      ],
      "execution_count": 0,
      "outputs": [
        {
          "output_type": "stream",
          "text": [
            " * sqlite:///library.db\n",
            "1 rows affected.\n",
            "1 rows affected.\n",
            "1 rows affected.\n",
            "1 rows affected.\n",
            "1 rows affected.\n",
            "1 rows affected.\n",
            "1 rows affected.\n",
            "1 rows affected.\n",
            "1 rows affected.\n",
            "1 rows affected.\n",
            "1 rows affected.\n",
            "1 rows affected.\n",
            "1 rows affected.\n",
            "1 rows affected.\n",
            "1 rows affected.\n",
            "1 rows affected.\n",
            "1 rows affected.\n",
            "1 rows affected.\n",
            "1 rows affected.\n",
            "1 rows affected.\n",
            "1 rows affected.\n",
            "1 rows affected.\n",
            "1 rows affected.\n",
            "1 rows affected.\n",
            "1 rows affected.\n",
            "1 rows affected.\n",
            "1 rows affected.\n",
            "1 rows affected.\n",
            "1 rows affected.\n",
            "1 rows affected.\n",
            "1 rows affected.\n"
          ],
          "name": "stdout"
        },
        {
          "output_type": "execute_result",
          "data": {
            "text/plain": [
              "[]"
            ]
          },
          "metadata": {
            "tags": []
          },
          "execution_count": 73
        }
      ]
    },
    {
      "cell_type": "code",
      "metadata": {
        "id": "UqhdytR-RYr-",
        "colab_type": "code",
        "outputId": "8b0f2b4b-6ce6-4d12-90ee-651ad12ac63e",
        "colab": {
          "base_uri": "https://localhost:8080/",
          "height": 104
        }
      },
      "source": [
        "%sql UPDATE Members set balance = (.20) where MemberID = '324'; \n",
        "#(2*0.10)\n",
        "%sql UPDATE Members set balance = (.70) where MemberID = '321'; \n",
        "#(7*0.10)"
      ],
      "execution_count": 0,
      "outputs": [
        {
          "output_type": "stream",
          "text": [
            " * sqlite:///library.db\n",
            "1 rows affected.\n",
            " * sqlite:///library.db\n",
            "1 rows affected.\n"
          ],
          "name": "stdout"
        },
        {
          "output_type": "execute_result",
          "data": {
            "text/plain": [
              "[]"
            ]
          },
          "metadata": {
            "tags": []
          },
          "execution_count": 74
        }
      ]
    },
    {
      "cell_type": "markdown",
      "metadata": {
        "id": "Att1_HfMoP_b",
        "colab_type": "text"
      },
      "source": [
        "# Scenario Description"
      ]
    },
    {
      "cell_type": "markdown",
      "metadata": {
        "id": "GCncPTTrRTCx",
        "colab_type": "text"
      },
      "source": [
        "Ray is an IT Consultant Intern for Rebok who is enthusiastic about Information, Science and Technology. One day, he enters our library looking for an intermediate tutorial textbook surrounding the topic of enterprise information systems. He eventually selects a book titled “Managing Information Systems” with ISBN “9780133898293”. The book was issued at 11:30 am on 04/11/2020 and assigned a due date of 04/18/2020. Unfortunately for Ray, April eighteenth came and went without him remembering to return his textbook. According to our library’s policies, Ray is charged with a standard late fee of \\$0.10 per day, which is accordingly incremented into his Member ‘Balance’ field until the book is returned. On 04/25/2020, he suddenly remembers his overdue book, and returns to the library to return the item and mitigate his outstanding balance. Ray’s balance is \\$0.70 before returning the book, and he will need to pay the balance to reset to \\$0.00. "
      ]
    },
    {
      "cell_type": "markdown",
      "metadata": {
        "id": "DFaZ9oMxoVXL",
        "colab_type": "text"
      },
      "source": [
        "# Useful Queries"
      ]
    },
    {
      "cell_type": "markdown",
      "metadata": {
        "id": "UuWeHYN5N2uO",
        "colab_type": "text"
      },
      "source": [
        "1. Obtain a list of people and the name of each book of people living in University Park who have checked out a book in the month of April. \n",
        "\n",
        " * Obtaining the comprehensive list of all people living on campus at Penn State who have recently checked out a book would be very beneficial in order to provide librarians and professors with a record of how often particular people frequented the library and used its resources to help improve their research and/or learning. These metrics can be used by library staff to justify the need to allocate more funds or resources toward purchasing newer books based on the volume of usage.\n"
      ]
    },
    {
      "cell_type": "code",
      "metadata": {
        "id": "m8pM5-4EN2Nd",
        "colab_type": "code",
        "outputId": "6ed31420-31ed-4951-8a05-dc39abbe735a",
        "colab": {
          "base_uri": "https://localhost:8080/",
          "height": 118
        }
      },
      "source": [
        "%%sql\n",
        "SELECT m.FName, m.LName, b.Title from Members m, CheckOut co, Books b where (m.MemberID = co.MemberID and co.ISBN = b.ISBN) AND co.DateTime BETWEEN '2020-04-01 00:00:00' and '2020-04-30 00:00:00' AND m.PostalCode is '16802';"
      ],
      "execution_count": 0,
      "outputs": [
        {
          "output_type": "stream",
          "text": [
            " * sqlite:///library.db\n",
            "Done.\n"
          ],
          "name": "stdout"
        },
        {
          "output_type": "execute_result",
          "data": {
            "text/html": [
              "<table>\n",
              "    <tr>\n",
              "        <th>FName</th>\n",
              "        <th>LName</th>\n",
              "        <th>Title</th>\n",
              "    </tr>\n",
              "    <tr>\n",
              "        <td>Jenny</td>\n",
              "        <td>Vega</td>\n",
              "        <td>The Many Faces of Andi</td>\n",
              "    </tr>\n",
              "    <tr>\n",
              "        <td>Ariyah</td>\n",
              "        <td>Libor</td>\n",
              "        <td>Creating a Simulation</td>\n",
              "    </tr>\n",
              "</table>"
            ],
            "text/plain": [
              "[('Jenny', 'Vega', 'The Many Faces of Andi'),\n",
              " ('Ariyah', 'Libor', 'Creating a Simulation')]"
            ]
          },
          "metadata": {
            "tags": []
          },
          "execution_count": 63
        }
      ]
    },
    {
      "cell_type": "markdown",
      "metadata": {
        "id": "eM0KZO6APIZ4",
        "colab_type": "text"
      },
      "source": [
        "\n",
        "\n",
        "---\n",
        "\n",
        "\n",
        "2. Calculate the total outstanding balance for each user who currently has late fees attributed to their account, and obtain the number of days since checking in the originally late book in order to include this information in a reminder email. \n",
        "\n",
        " * It would be very helpful for our library to be able to query all members with outstanding balances in our system in order to identify members with a remaining balance after checking in a late book. These are the individuals who the library would seek to contact over email most often until their remaining balance is paid off. Obtaining the outstanding balance and corresponding member email provides the information necessary to construct and send an automatic email reminder to those specific users whenever the librarians feel it is necessary."
      ]
    },
    {
      "cell_type": "code",
      "metadata": {
        "id": "Dx1H9rjiP0mw",
        "colab_type": "code",
        "outputId": "f336f132-cf70-4e47-fc3f-f372f4260071",
        "colab": {
          "base_uri": "https://localhost:8080/",
          "height": 118
        }
      },
      "source": [
        "%%sql\n",
        "select m.FName, m.LName, m.EMail, b.Title, m.Balance, (strftime('%J', 'now') - strftime('%J', ci.DateTime)) from Members m, CheckOut co, CheckIn ci, Books b where (m.MemberID = co.MemberID AND co.MemberID = ci.MemberID AND b.ISBN = co.ISBN AND co.ISBN = ci.ISBN AND ci.late is 'true') Order by m.balance;"
      ],
      "execution_count": 0,
      "outputs": [
        {
          "output_type": "stream",
          "text": [
            " * sqlite:///library.db\n",
            "Done.\n"
          ],
          "name": "stdout"
        },
        {
          "output_type": "execute_result",
          "data": {
            "text/html": [
              "<table>\n",
              "    <tr>\n",
              "        <th>FName</th>\n",
              "        <th>LName</th>\n",
              "        <th>EMail</th>\n",
              "        <th>Title</th>\n",
              "        <th>Balance</th>\n",
              "        <th>(strftime(&#x27;%J&#x27;, &#x27;now&#x27;) - strftime(&#x27;%J&#x27;, ci.DateTime))</th>\n",
              "    </tr>\n",
              "    <tr>\n",
              "        <td>Ariyah</td>\n",
              "        <td>Libor</td>\n",
              "        <td>alibor@psu.edu</td>\n",
              "        <td>Creating a Simulation</td>\n",
              "        <td>0.2</td>\n",
              "        <td>11.67411343799904</td>\n",
              "    </tr>\n",
              "    <tr>\n",
              "        <td>Ray</td>\n",
              "        <td>Smith</td>\n",
              "        <td>rsmith@psu.edu</td>\n",
              "        <td>Managing Information Systems</td>\n",
              "        <td>0.7</td>\n",
              "        <td>2.67411343799904</td>\n",
              "    </tr>\n",
              "</table>"
            ],
            "text/plain": [
              "[('Ariyah', 'Libor', 'alibor@psu.edu', 'Creating a Simulation', 0.2, 11.67411343799904),\n",
              " ('Ray', 'Smith', 'rsmith@psu.edu', 'Managing Information Systems', 0.7, 2.67411343799904)]"
            ]
          },
          "metadata": {
            "tags": []
          },
          "execution_count": 75
        }
      ]
    },
    {
      "cell_type": "markdown",
      "metadata": {
        "id": "JYSz1WIMV2eg",
        "colab_type": "text"
      },
      "source": [
        "\n",
        "\n",
        "---\n",
        "\n",
        "3. Find all currently on loan books that are not overdue, and display the associated checkout information.\n",
        "\n",
        " * This information would be very useful for both a librarian and any members who have currently books on loan, as any librarian can quickly view whether a member has loaned a specific book, as well as when the text is expected to be back in stock. Any other member who was interested in a currently loaned book would be able to place a reserve on the book if they so choose, and additionally know the latest date in which they would be able to come in and loan the book out themselves (assuming the book is not late). Other librarians could also use this information to acknowledge a particular staff member associated with a checkout transaction for a book currently on loan. This would be useful information to have if there were any issues regarding service during the transaction."
      ]
    },
    {
      "cell_type": "code",
      "metadata": {
        "id": "M3Ac8FQaXO6E",
        "colab_type": "code",
        "outputId": "08268ee4-dc16-4e99-bdbb-d9ca395f1788",
        "colab": {
          "base_uri": "https://localhost:8080/",
          "height": 96
        }
      },
      "source": [
        "%%sql\n",
        "select * from CheckOut where DueDate > date('now'); "
      ],
      "execution_count": 0,
      "outputs": [
        {
          "output_type": "stream",
          "text": [
            " * sqlite:///library.db\n",
            "Done.\n"
          ],
          "name": "stdout"
        },
        {
          "output_type": "execute_result",
          "data": {
            "text/html": [
              "<table>\n",
              "    <tr>\n",
              "        <th>CheckOutID</th>\n",
              "        <th>ISBN</th>\n",
              "        <th>MemberID</th>\n",
              "        <th>StaffID</th>\n",
              "        <th>DateTime</th>\n",
              "        <th>Type</th>\n",
              "        <th>DueDate</th>\n",
              "    </tr>\n",
              "    <tr>\n",
              "        <td>456</td>\n",
              "        <td>1234567890123</td>\n",
              "        <td>322</td>\n",
              "        <td>110</td>\n",
              "        <td>2020-04-27 16:04:22</td>\n",
              "        <td>Loan</td>\n",
              "        <td>2020-05-04</td>\n",
              "    </tr>\n",
              "</table>"
            ],
            "text/plain": [
              "[('456', '1234567890123', '322', '110', '2020-04-27 16:04:22', 'Loan', '2020-05-04')]"
            ]
          },
          "metadata": {
            "tags": []
          },
          "execution_count": 77
        }
      ]
    }
  ]
}