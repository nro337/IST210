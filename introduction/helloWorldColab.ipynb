{
  "nbformat": 4,
  "nbformat_minor": 0,
  "metadata": {
    "colab": {
      "name": "helloWorldColab.ipynb",
      "provenance": [],
      "authorship_tag": "ABX9TyPdGW0tTUoAg6Fnoj7jXfTi",
      "include_colab_link": true
    },
    "kernelspec": {
      "name": "python3",
      "display_name": "Python 3"
    }
  },
  "cells": [
    {
      "cell_type": "markdown",
      "metadata": {
        "id": "view-in-github",
        "colab_type": "text"
      },
      "source": [
        "<a href=\"https://colab.research.google.com/github/nro337/IST210/blob/master/introduction/helloWorldColab.ipynb\" target=\"_parent\"><img src=\"https://colab.research.google.com/assets/colab-badge.svg\" alt=\"Open In Colab\"/></a>"
      ]
    },
    {
      "cell_type": "code",
      "metadata": {
        "id": "kj8HcuJDzeuT",
        "colab_type": "code",
        "colab": {
          "base_uri": "https://localhost:8080/",
          "height": 34
        },
        "outputId": "fe61f37c-c904-4262-bf9b-6a4301011bc8"
      },
      "source": [
        "2+2"
      ],
      "execution_count": 1,
      "outputs": [
        {
          "output_type": "execute_result",
          "data": {
            "text/plain": [
              "4"
            ]
          },
          "metadata": {
            "tags": []
          },
          "execution_count": 1
        }
      ]
    },
    {
      "cell_type": "code",
      "metadata": {
        "id": "1b9tDBlHzyFC",
        "colab_type": "code",
        "colab": {
          "base_uri": "https://localhost:8080/",
          "height": 34
        },
        "outputId": "33358e1f-bc18-4c44-8240-80bf4807b8b1"
      },
      "source": [
        "print(\"hello!\")"
      ],
      "execution_count": 3,
      "outputs": [
        {
          "output_type": "stream",
          "text": [
            "hello!\n"
          ],
          "name": "stdout"
        }
      ]
    },
    {
      "cell_type": "markdown",
      "metadata": {
        "id": "Hu7_QAd5z9bZ",
        "colab_type": "text"
      },
      "source": [
        "My first notebook. *Nice*"
      ]
    },
    {
      "cell_type": "markdown",
      "metadata": {
        "id": "RKJ701zs0mLW",
        "colab_type": "text"
      },
      "source": [
        "#Hello\n",
        "##Hello2\n",
        "###Hello3\n",
        "####Hello4"
      ]
    },
    {
      "cell_type": "markdown",
      "metadata": {
        "id": "P-0PKuWg4Jz7",
        "colab_type": "text"
      },
      "source": [
        "![My First Image](https://raw.githubusercontent.com/nro337/IST210/master/introduction/Screen%20Shot%202020-01-13%20at%209.25.38%20AM.png)"
      ]
    }
  ]
}