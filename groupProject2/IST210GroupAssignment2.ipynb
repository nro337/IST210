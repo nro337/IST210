{
  "nbformat": 4,
  "nbformat_minor": 0,
  "metadata": {
    "colab": {
      "name": "IST210GroupAssignment2.ipynb",
      "provenance": [],
      "authorship_tag": "ABX9TyPXas1mw8B3tNgu+vPX3+lG",
      "include_colab_link": true
    },
    "kernelspec": {
      "name": "python3",
      "display_name": "Python 3"
    }
  },
  "cells": [
    {
      "cell_type": "markdown",
      "metadata": {
        "id": "view-in-github",
        "colab_type": "text"
      },
      "source": [
        "<a href=\"https://colab.research.google.com/github/nro337/IST210/blob/master/groupProject2/IST210GroupAssignment2.ipynb\" target=\"_parent\"><img src=\"https://colab.research.google.com/assets/colab-badge.svg\" alt=\"Open In Colab\"/></a>"
      ]
    },
    {
      "cell_type": "markdown",
      "metadata": {
        "id": "Q5yZlY9Diy5f",
        "colab_type": "text"
      },
      "source": [
        "# Group Assignment 2: Library ER Diagram\n",
        "\n",
        "#### Created in First Normal Form"
      ]
    },
    {
      "cell_type": "markdown",
      "metadata": {
        "id": "fLhwCaEYhYRI",
        "colab_type": "text"
      },
      "source": [
        "![Library](https://raw.githubusercontent.com/nro337/IST210/master/groupProject2/Library.png)"
      ]
    },
    {
      "cell_type": "markdown",
      "metadata": {
        "id": "FXHhrk1jiiuE",
        "colab_type": "text"
      },
      "source": [
        "Our group focused on implementation of a library for our ER diagram design. We decided to construct our ER Diagram timeline on a day-to-day time frame, meaning that our cardinality reflects the number of operations possible per day. In addition to this, we also made several assumptions in order to streamline the database and improve ease of usage. We assumed each event would only be headed by one staff member. Additionally, we only have one copy of each book. Finally, we configured our check-out/check-in system as processing books one at a time. However, this does not mean patrons are unable to checkout multiple books at once — the system just processes these one at a time. \n",
        "\n",
        " Individual staff members are each able to organize up to three events per day, where only one staff member is assigned per event. One staff member is involved with each check-out transaction, and can perform up to 300 during the day. A single library member can make up to 15 check-out transactions per day consisting of one book per transaction. Once a library member has enjoyed their books, the library provides a member the ability to make up to 20 check-in transactions per day. Each check-in transaction returns one book. \n",
        "\n",
        "Most tables contain self-explanatory attributes of the item itself, however, we would like to further explain the check-out/check-in system as well as the late system in further detail. As previously explained, the check-out/check-in system processes items in one at a time, with a DateTime attribute being common amongst what a user would perceive as a single transaction.\n",
        "\n",
        "Additionally, we’d like to explain the balance attribute in Members. If a book is lost, and must be replaced, the member’s balance is decreased by the price attribute found in our Books table. Members may also owe money to the library if they possess borrowed books beyond the due date, in which case the balance decreases every day by a standard late fee. Our ER Diagram utilizes the “Late” attribute in the CheckIn table as a flag that a late fee should be issued equal to (CheckIn Datetime - DueDate) * late fee value.\n",
        "\n",
        "The Type attribute of the CheckOut entity stars whether a specific book is being used on reserve, or if it is being loaned for the default load period. Each Book possesses a LoanStatus and ReserveStatus attribute which specifies which loan type each book supports. The Ebook attribute specifies a boolean value, and is included as modern eBooks through our library can also have loan or reservation due dates applied. These eBooks are automatically returned through the Library’s CheckIn when the CheckOut DueDate timestamp is met, so no late fees are applied if the EBook attribute is true.\n",
        "\n"
      ]
    }
  ]
}